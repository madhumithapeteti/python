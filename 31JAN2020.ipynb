{
 "cells": [
  {
   "cell_type": "code",
   "execution_count": 6,
   "metadata": {},
   "outputs": [
    {
     "data": {
      "text/plain": [
       "5"
      ]
     },
     "execution_count": 6,
     "metadata": {},
     "output_type": "execute_result"
    }
   ],
   "source": [
    "# average of all numbers in an inclusive range\n",
    "# There is a single line of input with two values representing the inclusive range\n",
    "def averageRange(lb, ub):\n",
    "    sum = 0\n",
    "    for i in range(lb, ub+1):\n",
    "        sum += i\n",
    "    count = ub-lb+1\n",
    "    return sum//count\n",
    "\n",
    "averageRange(1,10)"
   ]
  },
  {
   "cell_type": "code",
   "execution_count": 10,
   "metadata": {},
   "outputs": [
    {
     "name": "stdout",
     "output_type": "stream",
     "text": [
      "[1, 6, 7, 8, 9, 10]\n"
     ]
    }
   ],
   "source": [
    "l=[1,10,8,9,7,6]\n",
    "l.sort()\n",
    "print(l)"
   ]
  },
  {
   "cell_type": "code",
   "execution_count": 14,
   "metadata": {},
   "outputs": [
    {
     "data": {
      "text/plain": [
       "[1, 10]"
      ]
     },
     "execution_count": 14,
     "metadata": {},
     "output_type": "execute_result"
    }
   ],
   "source": [
    "l=[1,10,8,9,7,6]\n",
    "l[:2]"
   ]
  },
  {
   "cell_type": "code",
   "execution_count": 15,
   "metadata": {},
   "outputs": [
    {
     "data": {
      "text/plain": [
       "10"
      ]
     },
     "execution_count": 15,
     "metadata": {},
     "output_type": "execute_result"
    }
   ],
   "source": [
    "max(l)"
   ]
  },
  {
   "cell_type": "code",
   "execution_count": 16,
   "metadata": {},
   "outputs": [
    {
     "data": {
      "text/plain": [
       "1"
      ]
     },
     "execution_count": 16,
     "metadata": {},
     "output_type": "execute_result"
    }
   ],
   "source": [
    "min(l)"
   ]
  },
  {
   "cell_type": "code",
   "execution_count": null,
   "metadata": {},
   "outputs": [],
   "source": [
    "l=[1,10,8,9,7,6]\n",
    "second highest number"
   ]
  },
  {
   "cell_type": "code",
   "execution_count": 25,
   "metadata": {},
   "outputs": [
    {
     "name": "stdout",
     "output_type": "stream",
     "text": [
      "48\n",
      "5.333333333333333\n"
     ]
    }
   ],
   "source": [
    "n=12+3+4+5+6+7+8+1+2\n",
    "print(n)\n",
    "print(n/9)\n"
   ]
  },
  {
   "cell_type": "code",
   "execution_count": 18,
   "metadata": {},
   "outputs": [
    {
     "data": {
      "text/plain": [
       "1"
      ]
     },
     "execution_count": 18,
     "metadata": {},
     "output_type": "execute_result"
    }
   ],
   "source": [
    "def linearsearch(li,k):\n",
    "    for i in li:\n",
    "        if i==k:\n",
    "            return 1\n",
    "    else:\n",
    "        return -1\n",
    "linearsearch([10,9,8,7,6],6)\n",
    "    "
   ]
  },
  {
   "cell_type": "code",
   "execution_count": 21,
   "metadata": {},
   "outputs": [
    {
     "name": "stdout",
     "output_type": "stream",
     "text": [
      "1 : 2\n",
      "1 : 2\n",
      "2 : 2\n",
      "2 : 2\n",
      "3 : 2\n",
      "3 : 2\n",
      "4 : 2\n",
      "4 : 2\n",
      "5 : 1\n"
     ]
    }
   ],
   "source": [
    "li=[1,1,2,2,3,3,4,4,5]\n",
    "for i in li:\n",
    "    print(i,\":\",li.count(i))\n"
   ]
  },
  {
   "cell_type": "code",
   "execution_count": 22,
   "metadata": {},
   "outputs": [
    {
     "name": "stdout",
     "output_type": "stream",
     "text": [
      "1 : 2\n",
      "2 : 3\n",
      "3 : 4\n",
      "4 : 5\n",
      "[2, 3, 4, 5]\n",
      "5\n"
     ]
    }
   ],
   "source": [
    "li=[1,1,2,2,2,3,3,3,3,4,4,4,4,4]\n",
    "l=[]\n",
    "for i in set(li):\n",
    "    print(i,\":\",li.count(i))\n",
    "    l.append(li.count(i))\n",
    "print(l)\n",
    "print(max(l))"
   ]
  },
  {
   "cell_type": "code",
   "execution_count": 26,
   "metadata": {},
   "outputs": [
    {
     "name": "stdout",
     "output_type": "stream",
     "text": [
      "[2, 3]\n"
     ]
    }
   ],
   "source": [
    "print(l[:-2])"
   ]
  },
  {
   "cell_type": "code",
   "execution_count": 27,
   "metadata": {},
   "outputs": [
    {
     "name": "stdout",
     "output_type": "stream",
     "text": [
      "[4, 5]\n"
     ]
    }
   ],
   "source": [
    "print(l[2:])"
   ]
  },
  {
   "cell_type": "code",
   "execution_count": 48,
   "metadata": {},
   "outputs": [
    {
     "data": {
      "text/plain": [
       "-1"
      ]
     },
     "execution_count": 48,
     "metadata": {},
     "output_type": "execute_result"
    }
   ],
   "source": [
    "def secondLargest(li):\n",
    "    # Construct the list into a unique list\n",
    "    # O(n)\n",
    "    unique = []\n",
    "    freq = {}\n",
    "    for n in li:\n",
    "        if n not in unique:\n",
    "            unique.append(n)\n",
    "            \n",
    "    unique = sorted(unique,reverse=True)\n",
    "    if len(unique) > 1:\n",
    "        return unique[1]\n",
    "    return -1\n",
    "\n",
    "secondLargest([1])\n",
    "\n",
    "# def fifthLeast(li)\n",
    "            "
   ]
  },
  {
   "cell_type": "code",
   "execution_count": 41,
   "metadata": {},
   "outputs": [
    {
     "data": {
      "text/plain": [
       "7"
      ]
     },
     "execution_count": 41,
     "metadata": {},
     "output_type": "execute_result"
    }
   ],
   "source": [
    "def fifthLargest(li):\n",
    "    # Construct the list into a unique list\n",
    "    # O(n)\n",
    "    li=[1,5,5,9,2,5,7,3,5]\n",
    "    unique = []\n",
    "    freq = {}\n",
    "    for n in li:\n",
    "        if n not in unique:\n",
    "            unique.append(n)\n",
    "            \n",
    "    unique = sorted(unique,reverse=True)\n",
    "    if len(unique) > 4:\n",
    "        return unique[1]\n",
    "    return -1\n",
    "\n",
    "fifthLargest([1,5,5,9,2,5,7,3,5])"
   ]
  },
  {
   "cell_type": "code",
   "execution_count": 21,
   "metadata": {},
   "outputs": [
    {
     "data": {
      "text/plain": [
       "-1"
      ]
     },
     "execution_count": 21,
     "metadata": {},
     "output_type": "execute_result"
    }
   ],
   "source": [
    "# def kLargest(li, k)\n",
    "\n",
    "def klargest(li, k):\n",
    "    unique = []\n",
    "    for i in li:\n",
    "        if i not in unique:\n",
    "            unique.append(i)\n",
    "    unique = sorted(unique,reverse=True)\n",
    "    if len(unique) >= k:\n",
    "        return unique[k-1]\n",
    "    return -1\n",
    "klargest([], 1)"
   ]
  },
  {
   "cell_type": "code",
   "execution_count": 51,
   "metadata": {},
   "outputs": [
    {
     "data": {
      "text/plain": [
       "10"
      ]
     },
     "execution_count": 51,
     "metadata": {},
     "output_type": "execute_result"
    }
   ],
   "source": [
    "# def kLargest(li, k)\n",
    "\n",
    "def ksmallest(li, k):\n",
    "    li=[10,20,30,40,50]\n",
    "    unique = []\n",
    "    for i in li:\n",
    "        if i not in unique:\n",
    "            unique.append(i)\n",
    "    unique = sorted(unique)\n",
    "    if len(unique) >= k:\n",
    "        return unique[k-1]\n",
    "    return -1\n",
    "ksmallest([], 1)"
   ]
  },
  {
   "cell_type": "code",
   "execution_count": 52,
   "metadata": {},
   "outputs": [
    {
     "data": {
      "text/plain": [
       "1"
      ]
     },
     "execution_count": 52,
     "metadata": {},
     "output_type": "execute_result"
    }
   ],
   "source": [
    "#Function to identify the element with high frequency in a list\n",
    "#If element have the highest frequency\n",
    "#highestFrequencyelements[1,2,3,9,8,7,3,4,2,1]->1\n",
    "def highestfrequencyelement(li):\n",
    "   #Extracting unquie element with frequencises\n",
    "   unique ={}\n",
    "   for n in li:\n",
    "       if n in unique:\n",
    "           unique[n] += 1\n",
    "   else:\n",
    "       unique[n]=1\n",
    "#unique ={1:2,2:2,3:2,9:1,8:1,7:1,4:1}\n",
    "   maxfreq= max(unique.values())\n",
    "   #Extract all keys with maxfreq in a list\n",
    "   maxfreqkeys =[]\n",
    "   for item in unique.items():\n",
    "       #item ->(keys,values)\n",
    "       # item[1]\n",
    "       if item[1]== maxfreq:\n",
    "           maxfreqkeys.append(item[0])\n",
    "   return min(maxfreqkeys)\n",
    "highestfrequencyelement([1,2,3,4,5,6,7,8,1])\n"
   ]
  },
  {
   "cell_type": "code",
   "execution_count": null,
   "metadata": {},
   "outputs": [],
   "source": [
    "# Function to identify second highest frequency element\n",
    "# If there are many such elements, return the smallest\n",
    "# [1,2,3,2,1,4,4,9] -> 3\n"
   ]
  },
  {
   "cell_type": "code",
   "execution_count": 42,
   "metadata": {},
   "outputs": [],
   "source": [
    "#problem: special number\n",
    "# Aspecial number is defined as a number which as a least, p-distinct prime number\n",
    "# write a program to determine whether a number n is a special number\n",
    "# i/p:p second line :t (number of test cases) Next t lines:N\n",
    "# o/p:for each test case,print yes or no depending on the result\n"
   ]
  },
  {
   "cell_type": "code",
   "execution_count": 46,
   "metadata": {},
   "outputs": [
    {
     "data": {
      "text/plain": [
       "True"
      ]
     },
     "execution_count": 46,
     "metadata": {},
     "output_type": "execute_result"
    }
   ],
   "source": [
    "#Function to check if number is prime\n",
    "def  isSpecialNumber(n, p):\n",
    "    if numberOfPrimeFactors(n) >=p:\n",
    "        return True\n",
    "    return False\n",
    "def isPrime(n):\n",
    "    flag = 1\n",
    "    if n == 2:\n",
    "        return True\n",
    "    for i in range(2, n//2 +1):\n",
    "        if n % i == 0:\n",
    "            flag = 0\n",
    "            return False\n",
    "    if flag == 1:\n",
    "        return True\n",
    "    \n",
    "#Function to determine number of prime factors for a given number\n",
    "\n",
    "def numberOfPrimeFactors(n):\n",
    "    if isPrime(n):\n",
    "        return 1\n",
    "    count=0\n",
    "    for i in range(2, n // 2 +1):\n",
    "        if isPrime(i) and n % i == 0:\n",
    "            count +=1\n",
    "    return count\n",
    "\n",
    "def Solution2():\n",
    "    p = int(input())\n",
    "    t =int(input())\n",
    "    for i in range(0 ,t):\n",
    "        n = int(input())\n",
    "        if isSpecialNumber(n ,p):\n",
    "            print(\"Yes\")\n",
    "        else:\n",
    "            print(\"No\")\n",
    "isSpecialNumber(30 ,2)\n",
    "    "
   ]
  },
  {
   "cell_type": "code",
   "execution_count": 47,
   "metadata": {},
   "outputs": [
    {
     "data": {
      "text/plain": [
       "False"
      ]
     },
     "execution_count": 47,
     "metadata": {},
     "output_type": "execute_result"
    }
   ],
   "source": [
    "#Function to check if number is prime\n",
    "def  isSpecialNumber(n, p):\n",
    "    if numberOfPrimeFactors(n) >=p:\n",
    "        return True\n",
    "    return False\n",
    "def isPrime(n):\n",
    "    flag = 1\n",
    "    if n == 2:\n",
    "        return True\n",
    "    for i in range(2, n//2 +1):\n",
    "        if n % i == 0:\n",
    "            flag = 0\n",
    "            return False\n",
    "    if flag == 1:\n",
    "        return True\n",
    "    \n",
    "#Function to determine number of prime factors for a given number\n",
    "\n",
    "def numberOfPrimeFactors(n):\n",
    "    if isPrime(n):\n",
    "        return 1\n",
    "    count=0\n",
    "    for i in range(2, n // 2 +1):\n",
    "        if isPrime(i) and n % i == 0:\n",
    "            count +=1\n",
    "    return count\n",
    "\n",
    "def Solution2():\n",
    "    p = int(input())\n",
    "    t =int(input())\n",
    "    for i in range(0 ,t):\n",
    "        n = int(input())\n",
    "        if isSpecialNumber(n ,p):\n",
    "            print(\"Yes\")\n",
    "        else:\n",
    "            print(\"No\")\n",
    "isSpecialNumber(16 ,2)"
   ]
  },
  {
   "cell_type": "code",
   "execution_count": null,
   "metadata": {},
   "outputs": [],
   "source": []
  }
 ],
 "metadata": {
  "kernelspec": {
   "display_name": "Python 3",
   "language": "python",
   "name": "python3"
  },
  "language_info": {
   "codemirror_mode": {
    "name": "ipython",
    "version": 3
   },
   "file_extension": ".py",
   "mimetype": "text/x-python",
   "name": "python",
   "nbconvert_exporter": "python",
   "pygments_lexer": "ipython3",
   "version": "3.6.5"
  }
 },
 "nbformat": 4,
 "nbformat_minor": 2
}
